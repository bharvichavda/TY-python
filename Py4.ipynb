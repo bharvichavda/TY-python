{
 "cells": [
  {
   "cell_type": "markdown",
   "id": "368fe8bd",
   "metadata": {},
   "source": [
    "# Data Structures\n",
    "       \n",
    "There are four collection data types in the Python Programming Language     \n",
    "1.) Lists   \n",
    "2.) Tuples    \n",
    "3.) Sets    \n",
    "4.) Dictionaries      \n",
    "       \n",
    "       \n",
    "## Python Lists\n",
    "      \n",
    "A List is a collection which is orders and changeable. In Python lists are written as square brackets."
   ]
  },
  {
   "cell_type": "code",
   "execution_count": 2,
   "id": "8c12b3ce",
   "metadata": {},
   "outputs": [
    {
     "name": "stdout",
     "output_type": "stream",
     "text": [
      "<class 'list'>\n",
      "['Sia', 'Emma']\n",
      "<class 'str'>\n",
      "Sia\n",
      "<class 'int'>\n",
      "200\n"
     ]
    }
   ],
   "source": [
    "a = [\"Sia\",\"Emma\"]\n",
    "b = 'Sia'\n",
    "c = 200\n",
    "print(type(a))\n",
    "print(a)\n",
    "print(type(b))\n",
    "print(b)\n",
    "print(type(c))\n",
    "print(c)"
   ]
  },
  {
   "cell_type": "code",
   "execution_count": 4,
   "id": "b79faca3",
   "metadata": {},
   "outputs": [
    {
     "name": "stdout",
     "output_type": "stream",
     "text": [
      "['Sia', 'Emma', 'Issa', 'Lizzy', 'Esha']\n",
      "<class 'list'>\n"
     ]
    }
   ],
   "source": [
    "names = ['Sia', 'Emma', 'Issa', 'Lizzy', 'Esha']\n",
    "print(names)\n",
    "print(type(names))"
   ]
  },
  {
   "cell_type": "code",
   "execution_count": 6,
   "id": "5126e257",
   "metadata": {},
   "outputs": [
    {
     "name": "stdout",
     "output_type": "stream",
     "text": [
      "Lizzy\n",
      "['Issa', 'Lizzy', 'Esha']\n",
      "['Sia', 'Emma']\n",
      "['Emma', 'Issa']\n"
     ]
    }
   ],
   "source": [
    "# Access items\n",
    "print(names[3])\n",
    "print(names[2:])\n",
    "print(names[:2])\n",
    "print(names[1:3])"
   ]
  },
  {
   "cell_type": "code",
   "execution_count": 8,
   "id": "6d64dc81",
   "metadata": {},
   "outputs": [
    {
     "data": {
      "text/plain": [
       "['Sia', 'Emma', 'Issa', 'Lizzy', 'Esha']"
      ]
     },
     "execution_count": 8,
     "metadata": {},
     "output_type": "execute_result"
    }
   ],
   "source": [
    "names"
   ]
  },
  {
   "cell_type": "code",
   "execution_count": 10,
   "id": "b8183770",
   "metadata": {},
   "outputs": [
    {
     "name": "stdout",
     "output_type": "stream",
     "text": [
      "Esha\n",
      "['Lizzy', 'Esha']\n",
      "['Sia', 'Emma', 'Issa']\n",
      "['Issa', 'Lizzy']\n"
     ]
    }
   ],
   "source": [
    "# negative index\n",
    "print(names[-1])\n",
    "print(names[-2:])\n",
    "print(names[:-2])\n",
    "print(names[-3:-1])"
   ]
  },
  {
   "cell_type": "code",
   "execution_count": 12,
   "id": "88d4460f",
   "metadata": {},
   "outputs": [
    {
     "name": "stdout",
     "output_type": "stream",
     "text": [
      "['Sia', 'Emma', 'Issa', 'joy', 'Esha']\n",
      "['Sia', 'Emma', 'Issa', 'joy', 'Esha']\n"
     ]
    }
   ],
   "source": [
    "# Change item in list\n",
    "print(names)\n",
    "names[3] = \"joy\"\n",
    "print(names)"
   ]
  },
  {
   "cell_type": "code",
   "execution_count": 15,
   "id": "5a6ac25b",
   "metadata": {},
   "outputs": [
    {
     "name": "stdout",
     "output_type": "stream",
     "text": [
      "Sia\n",
      "Emma\n",
      "Issa\n",
      "joy\n",
      "Esha\n"
     ]
    }
   ],
   "source": [
    "# Looing through lists\n",
    "for i in names:\n",
    "    print(i)"
   ]
  },
  {
   "cell_type": "code",
   "execution_count": 17,
   "id": "e8b4fd31",
   "metadata": {},
   "outputs": [
    {
     "name": "stdout",
     "output_type": "stream",
     "text": [
      "[1, 2, 3, ['a', 'b', [6, 7]]]\n"
     ]
    }
   ],
   "source": [
    "# Nested List\n",
    "mylist = [1,2,3,['a','b',[6,7]]]\n",
    "print(mylist)"
   ]
  },
  {
   "cell_type": "code",
   "execution_count": 19,
   "id": "5c5ae0d3",
   "metadata": {},
   "outputs": [
    {
     "data": {
      "text/plain": [
       "[['Science'], ['Commerce'], ['Arts']]"
      ]
     },
     "execution_count": 19,
     "metadata": {},
     "output_type": "execute_result"
    }
   ],
   "source": [
    "sp = [['Science'],['Commerce'],['Arts']]\n",
    "sp"
   ]
  },
  {
   "cell_type": "markdown",
   "id": "01202cf7",
   "metadata": {},
   "source": [
    "### Methods for Lists\n",
    "       \n",
    "1)  append() : Adds an element at the end of the list      \n",
    "2)  clear() : Removes all the elements from the list         \n",
    "3)  copy() : Returns a copy of the list      \n",
    "4)  count() : Returns the number of elemets with the specified value     \n",
    "5)  del : delete list        \n",
    "6)  extend() : Add the elements of a list(or any iterable), to the end of the current list       \n",
    "7)  index() : Returns the index of the first element with the specified value      \n",
    "8)  insert() : Adds an element at the specified position      \n",
    "9)  len() : Length of the list      \n",
    "10) list() : Copies list from given list      \n",
    "11) pop() : Removes the element at the specified position     \n",
    "12) removed() : Removed the element with specified value     \n",
    "13) reverse() : Reverses the order of the list     \n",
    "14) sort() : Sorts the list     "
   ]
  },
  {
   "cell_type": "code",
   "execution_count": 21,
   "id": "6987c9a9",
   "metadata": {},
   "outputs": [
    {
     "name": "stdout",
     "output_type": "stream",
     "text": [
      "['Sia', 'Emma', 'Issa', 'joy', 'Esha', 'Kaya']\n",
      "['Sia', 'Emma', 'Issa', 'joy', 'Esha', 'Kaya', 'Kaya']\n"
     ]
    }
   ],
   "source": [
    "# append() : Adds an element at the end of the list\n",
    "print(names)\n",
    "names.append(\"Kaya\")\n",
    "print(names)"
   ]
  },
  {
   "cell_type": "code",
   "execution_count": 22,
   "id": "263e05d2",
   "metadata": {},
   "outputs": [
    {
     "name": "stdout",
     "output_type": "stream",
     "text": [
      "['Sia', 'Emma', 'Issa', 'joy', 'Esha', 'Kaya', 'Kaya']\n",
      "[]\n"
     ]
    }
   ],
   "source": [
    "# clear() : Removes all the elements from the list\n",
    "print(names)\n",
    "names.clear()\n",
    "print(names)"
   ]
  },
  {
   "cell_type": "code",
   "execution_count": 39,
   "id": "fe79dbbe",
   "metadata": {},
   "outputs": [
    {
     "name": "stdout",
     "output_type": "stream",
     "text": [
      "['Kesha', 'Lia', 'Tommy', 'Lily', 'Lucy']\n"
     ]
    }
   ],
   "source": [
    "# copy() : returns copy of a list\n",
    "names = [\"Kesha\",\"Lia\",\"Tommy\",\"Lily\",\"Lucy\"]\n",
    "names1 = names.copy()\n",
    "print(names1)"
   ]
  },
  {
   "cell_type": "code",
   "execution_count": 40,
   "id": "8533b5dd",
   "metadata": {},
   "outputs": [
    {
     "name": "stdout",
     "output_type": "stream",
     "text": [
      "2\n"
     ]
    }
   ],
   "source": [
    "# count() : Returns the number of elements with the specified value\n",
    "names.append(\"Lia\")\n",
    "x = names.count(\"Lia\")\n",
    "print(x)"
   ]
  },
  {
   "cell_type": "code",
   "execution_count": 41,
   "id": "95e75fb1",
   "metadata": {},
   "outputs": [
    {
     "name": "stdout",
     "output_type": "stream",
     "text": [
      "['Kesha', 'Lia', 'Tommy', 'Lily', 'Lucy']\n"
     ]
    },
    {
     "ename": "NameError",
     "evalue": "name 'names1' is not defined",
     "output_type": "error",
     "traceback": [
      "\u001b[1;31m---------------------------------------------------------------------------\u001b[0m",
      "\u001b[1;31mNameError\u001b[0m                                 Traceback (most recent call last)",
      "\u001b[1;32m<ipython-input-41-c0b5d437fceb>\u001b[0m in \u001b[0;36m<module>\u001b[1;34m\u001b[0m\n\u001b[0;32m      2\u001b[0m \u001b[0mprint\u001b[0m\u001b[1;33m(\u001b[0m\u001b[0mnames1\u001b[0m\u001b[1;33m)\u001b[0m\u001b[1;33m\u001b[0m\u001b[1;33m\u001b[0m\u001b[0m\n\u001b[0;32m      3\u001b[0m \u001b[1;32mdel\u001b[0m \u001b[0mnames1\u001b[0m\u001b[1;33m\u001b[0m\u001b[1;33m\u001b[0m\u001b[0m\n\u001b[1;32m----> 4\u001b[1;33m \u001b[0mprint\u001b[0m\u001b[1;33m(\u001b[0m\u001b[0mnames1\u001b[0m\u001b[1;33m)\u001b[0m\u001b[1;33m\u001b[0m\u001b[1;33m\u001b[0m\u001b[0m\n\u001b[0m",
      "\u001b[1;31mNameError\u001b[0m: name 'names1' is not defined"
     ]
    }
   ],
   "source": [
    "# del : Delete list\n",
    "print(names1)\n",
    "del names1\n",
    "print(names1)"
   ]
  },
  {
   "cell_type": "code",
   "execution_count": 42,
   "id": "dfd82b8d",
   "metadata": {},
   "outputs": [
    {
     "name": "stdout",
     "output_type": "stream",
     "text": [
      "['Kesha', 'Lia', 'Tommy', 'Lily', 'Lucy', 'Lia', 'Jaguar', 'Porshe', 'BMW']\n"
     ]
    }
   ],
   "source": [
    "# extend() : Add the elements of a list (or any iterable), to the end of the current list\n",
    "cars = ['Jaguar','Porshe','BMW']\n",
    "names.extend(cars)\n",
    "print(names)"
   ]
  },
  {
   "cell_type": "code",
   "execution_count": 43,
   "id": "568f8d95",
   "metadata": {},
   "outputs": [
    {
     "data": {
      "text/plain": [
       "1"
      ]
     },
     "execution_count": 43,
     "metadata": {},
     "output_type": "execute_result"
    }
   ],
   "source": [
    "# index() : Returns the index of the first element with the specified \n",
    "# won't check for further element after finding one\n",
    "x = names.index('Lia')\n",
    "x\n"
   ]
  },
  {
   "cell_type": "code",
   "execution_count": 46,
   "id": "d1001d68",
   "metadata": {},
   "outputs": [
    {
     "name": "stdout",
     "output_type": "stream",
     "text": [
      "['Kesha', 'Lia', 'Joy', 'Tommy', 'Lily', 'Lucy', 'Lia', 'Jaguar', 'Porshe', 'BMW']\n"
     ]
    },
    {
     "data": {
      "text/plain": [
       "['Kesha',\n",
       " 'Lia',\n",
       " 'Joy',\n",
       " 'Tommy',\n",
       " 'Lily',\n",
       " 'Lucy',\n",
       " 'Lia',\n",
       " 'Jaguar',\n",
       " 'Porshe',\n",
       " 'BMW']"
      ]
     },
     "execution_count": 46,
     "metadata": {},
     "output_type": "execute_result"
    }
   ],
   "source": [
    "# insert() : Adds an element at the specified position\n",
    "names.insert(2,'Joy')\n",
    "print(names)\n",
    "names"
   ]
  },
  {
   "cell_type": "code",
   "execution_count": 47,
   "id": "8703b082",
   "metadata": {},
   "outputs": [
    {
     "name": "stdout",
     "output_type": "stream",
     "text": [
      "10\n"
     ]
    }
   ],
   "source": [
    "# len() : Length of list\n",
    "print(len(names))"
   ]
  },
  {
   "cell_type": "code",
   "execution_count": 48,
   "id": "138f0b10",
   "metadata": {},
   "outputs": [
    {
     "name": "stdout",
     "output_type": "stream",
     "text": [
      "['Audi', 'BMW', 'Volvo']\n"
     ]
    }
   ],
   "source": [
    "# list() : Creates lists from given inputs\n",
    "new_list = list(('Audi','BMW','Volvo'))\n",
    "print(new_list)"
   ]
  },
  {
   "cell_type": "code",
   "execution_count": 49,
   "id": "b07c44cd",
   "metadata": {},
   "outputs": [
    {
     "name": "stdout",
     "output_type": "stream",
     "text": [
      "['Kesha', 'Lia', 'Joy', 'Tommy', 'Lily', 'Lucy', 'Lia', 'Jaguar', 'Porshe', 'BMW']\n",
      "['Kesha', 'Lia', 'Tommy', 'Lily', 'Lucy', 'Lia', 'Jaguar', 'Porshe', 'BMW']\n",
      "9\n"
     ]
    }
   ],
   "source": [
    "# pop() : removes the element at the specified position\n",
    "print(names)\n",
    "names.pop(2)\n",
    "print(names)\n",
    "print(len(names))"
   ]
  },
  {
   "cell_type": "code",
   "execution_count": 50,
   "id": "6785d4a0",
   "metadata": {},
   "outputs": [
    {
     "name": "stdout",
     "output_type": "stream",
     "text": [
      "['Kesha', 'Tommy', 'Lily', 'Lucy', 'Lia', 'Jaguar', 'Porshe', 'BMW']\n"
     ]
    }
   ],
   "source": [
    "# remove() : Reverses the item with thge specified value\n",
    "names.remove('Lia')\n",
    "print(names)"
   ]
  },
  {
   "cell_type": "code",
   "execution_count": 51,
   "id": "61bc25a3",
   "metadata": {},
   "outputs": [
    {
     "name": "stdout",
     "output_type": "stream",
     "text": [
      "['BMW', 'Porshe', 'Jaguar', 'Lia', 'Lucy', 'Lily', 'Tommy', 'Kesha']\n"
     ]
    }
   ],
   "source": [
    "# reverse() : Reverses the order of the list\n",
    "names.reverse()\n",
    "print(names)"
   ]
  },
  {
   "cell_type": "code",
   "execution_count": 52,
   "id": "e6ceb36d",
   "metadata": {},
   "outputs": [
    {
     "name": "stdout",
     "output_type": "stream",
     "text": [
      "['BMW', 'Jaguar', 'Kesha', 'Lia', 'Lily', 'Lucy', 'Porshe', 'Tommy']\n"
     ]
    }
   ],
   "source": [
    "# sort() : Sorst the list\n",
    "names.sort()\n",
    "print(names)"
   ]
  },
  {
   "cell_type": "markdown",
   "id": "5887434a",
   "metadata": {},
   "source": [
    "## Tuples\n",
    "       \n",
    "A tuple is a collection which is ordered and unchangeable.    \n",
    "      \n",
    "In Python tuples are written with round brackets.    \n",
    "       \n",
    "The key difference between the tuples and list is that while the tuples are immutable, objects of the lists are mutable.     \n",
    "      \n",
    "This means that the tuples cannot be changed while the lists can be modified.                \n",
    "Tuples are more memory efficient than the lists.       \n"
   ]
  },
  {
   "cell_type": "code",
   "execution_count": 53,
   "id": "a8442c57",
   "metadata": {},
   "outputs": [
    {
     "name": "stdout",
     "output_type": "stream",
     "text": [
      "(1, 2, 3, 4, 51, 0, 3) \n",
      "\n",
      "('Lia', 'Lucy', 'Lily', 'Tommy', 'Kesha')\n"
     ]
    }
   ],
   "source": [
    "t1 = (1,2,3,4,51,0,3)\n",
    "t2 = ('Lia', 'Lucy', 'Lily', 'Tommy', 'Kesha')\n",
    "print(t1,'\\n')\n",
    "print(t2)"
   ]
  },
  {
   "cell_type": "code",
   "execution_count": 54,
   "id": "0c3070c4",
   "metadata": {},
   "outputs": [
    {
     "data": {
      "text/plain": [
       "['Lia', 'Lucy']"
      ]
     },
     "execution_count": 54,
     "metadata": {},
     "output_type": "execute_result"
    }
   ],
   "source": [
    "t3 = ['Lia','Lucy']\n",
    "t3"
   ]
  },
  {
   "cell_type": "code",
   "execution_count": 56,
   "id": "c284bf10",
   "metadata": {},
   "outputs": [
    {
     "name": "stdout",
     "output_type": "stream",
     "text": [
      "1\n",
      "(3, 4, 51, 0, 3)\n",
      "(1, 2, 3)\n",
      "3\n",
      "(4, 51, 0, 3)\n",
      "(1, 2, 3, 4)\n"
     ]
    }
   ],
   "source": [
    "# Access elements\n",
    "print(t1[0])\n",
    "print(t1[2:])\n",
    "print(t1[:3])\n",
    "\n",
    "# negative index\n",
    "print(t1[-1])\n",
    "print(t1[-4:])\n",
    "print(t1[:-3])"
   ]
  },
  {
   "cell_type": "code",
   "execution_count": 57,
   "id": "ae0c9343",
   "metadata": {},
   "outputs": [
    {
     "ename": "TypeError",
     "evalue": "'tuple' object does not support item assignment",
     "output_type": "error",
     "traceback": [
      "\u001b[1;31m---------------------------------------------------------------------------\u001b[0m",
      "\u001b[1;31mTypeError\u001b[0m                                 Traceback (most recent call last)",
      "\u001b[1;32m<ipython-input-57-a05502d649bb>\u001b[0m in \u001b[0;36m<module>\u001b[1;34m\u001b[0m\n\u001b[0;32m      1\u001b[0m \u001b[1;31m# Change tuple values\u001b[0m\u001b[1;33m\u001b[0m\u001b[1;33m\u001b[0m\u001b[1;33m\u001b[0m\u001b[0m\n\u001b[1;32m----> 2\u001b[1;33m \u001b[0mt1\u001b[0m\u001b[1;33m[\u001b[0m\u001b[1;36m0\u001b[0m\u001b[1;33m]\u001b[0m \u001b[1;33m=\u001b[0m \u001b[1;36m99\u001b[0m\u001b[1;33m\u001b[0m\u001b[1;33m\u001b[0m\u001b[0m\n\u001b[0m",
      "\u001b[1;31mTypeError\u001b[0m: 'tuple' object does not support item assignment"
     ]
    }
   ],
   "source": [
    "# Change tuple values\n",
    "t1[0] = 99"
   ]
  },
  {
   "cell_type": "code",
   "execution_count": 58,
   "id": "fee92c2f",
   "metadata": {},
   "outputs": [
    {
     "name": "stdout",
     "output_type": "stream",
     "text": [
      "1\n",
      "2\n",
      "3\n",
      "4\n",
      "51\n",
      "0\n",
      "3\n"
     ]
    }
   ],
   "source": [
    "# Looping through tuple \n",
    "for j in t1:\n",
    "    print(j)"
   ]
  },
  {
   "cell_type": "code",
   "execution_count": 61,
   "id": "e6a54720",
   "metadata": {},
   "outputs": [
    {
     "name": "stdout",
     "output_type": "stream",
     "text": [
      "Lia is listed in t2\n",
      "True\n",
      "False\n"
     ]
    }
   ],
   "source": [
    "# Check for 'Lia' in t2\n",
    "if \"Lia\" in t2:\n",
    "    print(\"Lia is listed in t2\")\n",
    "print('Lia' in t2)\n",
    "print('Ada' in t2)"
   ]
  },
  {
   "cell_type": "code",
   "execution_count": 62,
   "id": "5d4c66f5",
   "metadata": {},
   "outputs": [
    {
     "name": "stdout",
     "output_type": "stream",
     "text": [
      "<class 'tuple'>\n",
      "<class 'str'>\n"
     ]
    }
   ],
   "source": [
    "# tuple with one element\n",
    "T1 = ('Hi',)\n",
    "print(type(T1))\n",
    "T2 = (\"Hi\")\n",
    "print(type(T2))"
   ]
  },
  {
   "cell_type": "markdown",
   "id": "e61b81a6",
   "metadata": {},
   "source": [
    "### Methods for Tuples       \n",
    "       \n",
    "1) tuple() : creats tuple with elements specified.       \n",
    "2) len() : gives length of tuple, no. of elements in tuple.           \n",
    "3) t1 + t2 : Adds two tuples.           \n",
    "4) del : Deletes tuple.     \n",
    "5) count() : Returns the number of times a specified value occurs in a tuple.    \n",
    "6) index() : Searches the tuple for a specified value and returns the position of where it was found.      "
   ]
  },
  {
   "cell_type": "code",
   "execution_count": 63,
   "id": "2ada6c24",
   "metadata": {},
   "outputs": [
    {
     "name": "stdout",
     "output_type": "stream",
     "text": [
      "(0, 1, 2, 3, 4, 5, 6, 7, 8, 3, 4)\n"
     ]
    }
   ],
   "source": [
    "# tuple() : creats tuple with elements specified\n",
    "t = tuple((0,1,2,3,4,5,6,7,8,3,4))\n",
    "print(t)"
   ]
  },
  {
   "cell_type": "code",
   "execution_count": 64,
   "id": "030e9812",
   "metadata": {},
   "outputs": [
    {
     "data": {
      "text/plain": [
       "11"
      ]
     },
     "execution_count": 64,
     "metadata": {},
     "output_type": "execute_result"
    }
   ],
   "source": [
    "# len() : Gives length of tuple, no. of elements in tuple.\n",
    "len(t)"
   ]
  },
  {
   "cell_type": "code",
   "execution_count": 65,
   "id": "f9a00177",
   "metadata": {},
   "outputs": [
    {
     "data": {
      "text/plain": [
       "(0, 1, 2, 3, 4, 5, 6, 7, 8, 3, 4, 1, 2, 3, 4, 51, 0, 3)"
      ]
     },
     "execution_count": 65,
     "metadata": {},
     "output_type": "execute_result"
    }
   ],
   "source": [
    "# t1 + t2 : adds two tuples\n",
    "t + t1"
   ]
  },
  {
   "cell_type": "code",
   "execution_count": 66,
   "id": "5904f3a9",
   "metadata": {},
   "outputs": [
    {
     "name": "stdout",
     "output_type": "stream",
     "text": [
      "(1, 2, 3, 4, 51, 0, 3)\n"
     ]
    },
    {
     "ename": "NameError",
     "evalue": "name 't1' is not defined",
     "output_type": "error",
     "traceback": [
      "\u001b[1;31m---------------------------------------------------------------------------\u001b[0m",
      "\u001b[1;31mNameError\u001b[0m                                 Traceback (most recent call last)",
      "\u001b[1;32m<ipython-input-66-a039e3111e05>\u001b[0m in \u001b[0;36m<module>\u001b[1;34m\u001b[0m\n\u001b[0;32m      2\u001b[0m \u001b[0mprint\u001b[0m\u001b[1;33m(\u001b[0m\u001b[0mt1\u001b[0m\u001b[1;33m)\u001b[0m\u001b[1;33m\u001b[0m\u001b[1;33m\u001b[0m\u001b[0m\n\u001b[0;32m      3\u001b[0m \u001b[1;32mdel\u001b[0m \u001b[0mt1\u001b[0m\u001b[1;33m\u001b[0m\u001b[1;33m\u001b[0m\u001b[0m\n\u001b[1;32m----> 4\u001b[1;33m \u001b[0mprint\u001b[0m\u001b[1;33m(\u001b[0m\u001b[0mt1\u001b[0m\u001b[1;33m)\u001b[0m\u001b[1;33m\u001b[0m\u001b[1;33m\u001b[0m\u001b[0m\n\u001b[0m",
      "\u001b[1;31mNameError\u001b[0m: name 't1' is not defined"
     ]
    }
   ],
   "source": [
    "# del : Deletes tuple\n",
    "print(t1)\n",
    "del t1\n",
    "print(t1)"
   ]
  },
  {
   "cell_type": "code",
   "execution_count": 68,
   "id": "fb5280f2",
   "metadata": {},
   "outputs": [
    {
     "name": "stdout",
     "output_type": "stream",
     "text": [
      "(0, 1, 2, 3, 4, 5, 6, 7, 8, 3, 4)\n"
     ]
    },
    {
     "data": {
      "text/plain": [
       "2"
      ]
     },
     "execution_count": 68,
     "metadata": {},
     "output_type": "execute_result"
    }
   ],
   "source": [
    "# count() : returns the number of times a specified value occures in a tuple\n",
    "print(t)\n",
    "t.count(4)"
   ]
  },
  {
   "cell_type": "code",
   "execution_count": 69,
   "id": "eb34ea76",
   "metadata": {},
   "outputs": [
    {
     "data": {
      "text/plain": [
       "4"
      ]
     },
     "execution_count": 69,
     "metadata": {},
     "output_type": "execute_result"
    }
   ],
   "source": [
    "# index() : searches the tuple for a specified value and returns the position of where it was found\n",
    "t.index(4)"
   ]
  },
  {
   "cell_type": "code",
   "execution_count": 71,
   "id": "b7c75d74",
   "metadata": {},
   "outputs": [
    {
     "name": "stdout",
     "output_type": "stream",
     "text": [
      "(1, 2, 3, 4, (2, 5, 'c', 9))\n"
     ]
    },
    {
     "data": {
      "text/plain": [
       "tuple"
      ]
     },
     "execution_count": 71,
     "metadata": {},
     "output_type": "execute_result"
    }
   ],
   "source": [
    "# Nested tuples\n",
    "t = (1,2,3,4,(2,5,'c',(9)))\n",
    "print(t)\n",
    "type(t)"
   ]
  },
  {
   "cell_type": "markdown",
   "id": "1c6d7c13",
   "metadata": {},
   "source": [
    "## Sets\n",
    "      \n",
    "A set is a collection which is unordered and unindexed. In Python sets are written with curly brackets."
   ]
  },
  {
   "cell_type": "code",
   "execution_count": 73,
   "id": "735878ce",
   "metadata": {},
   "outputs": [
    {
     "name": "stdout",
     "output_type": "stream",
     "text": [
      "{1, 2, 3, 4, 5, 6} \n",
      "\n"
     ]
    }
   ],
   "source": [
    "set1 = {1,2,3,4,5,6,3,2,1}\n",
    "print(set1,\"\\n\")\n",
    "set2 = {'A','B','C','D','X'}"
   ]
  },
  {
   "cell_type": "markdown",
   "id": "d0baabe0",
   "metadata": {},
   "source": [
    "### Access items          \n",
    "You can't access items in a set by referring to an index.     \n",
    "Since, sets are unordered, the items has no index."
   ]
  },
  {
   "cell_type": "code",
   "execution_count": 74,
   "id": "91ecc377",
   "metadata": {},
   "outputs": [
    {
     "name": "stdout",
     "output_type": "stream",
     "text": [
      "1\n",
      "2\n",
      "3\n",
      "4\n",
      "5\n",
      "6\n",
      "True\n"
     ]
    }
   ],
   "source": [
    "# Access items\n",
    "# loop through the set items using a for loop\n",
    "for j in set1 :\n",
    "    print(j)\n",
    "print('A' in set2)"
   ]
  },
  {
   "cell_type": "markdown",
   "id": "d8363456",
   "metadata": {},
   "source": [
    "### Methods for Sets\n",
    "        \n",
    "add(): Adds an element to the set      \n",
    "clear(): Removes all the elements from the set       \n",
    "copy(): Returns a copy of the set      \n",
    "difference(): Returns a set containing the difference between two or more sets      \n",
    "difference_update(): Removes the items in this set that are also included in another, specified set     \n",
    "discard(): Remove the specified item    \n",
    "intersection(): Returns a set, that is the intersection of two other sets      \n",
    "intersection_update(): Removes the items in this set that are not present in other, specified set(s)        \n",
    "isdisjoint(): Returns whether two sets have a intersection or not      \n",
    "issubset(): Returns whether another set contains this set or not      \n",
    "issuperset(): Returns whether this set contains another set or not     \n",
    "len(): Finds length of set      \n",
    "pop(): Removes an element from the set     \n",
    "remove(): Removes the specified element     \n",
    "symmetric_difference(): Returns a set with the symmetric differences of two sets     \n",
    "symmetric_difference_update(): inserts the symmetric differences from this set and another     \n",
    "union(): Return a set containing the union of sets     \n",
    "update(): Update the set with the union of this set and others     \n",
    "     "
   ]
  },
  {
   "cell_type": "code",
   "execution_count": 75,
   "id": "dbbb7688",
   "metadata": {},
   "outputs": [
    {
     "name": "stdout",
     "output_type": "stream",
     "text": [
      "{1, 2, 3, 4, 5, 6}\n",
      "{1, 2, 3, 4, 5, 6, 12}\n"
     ]
    }
   ],
   "source": [
    "# add() : Adds an element to the set\n",
    "print(set1)\n",
    "set1.add(12)\n",
    "print(set1)"
   ]
  },
  {
   "cell_type": "code",
   "execution_count": 76,
   "id": "3d35ed73",
   "metadata": {},
   "outputs": [
    {
     "name": "stdout",
     "output_type": "stream",
     "text": [
      "{'X', 'D', 'C', 'B', 'A'}\n"
     ]
    }
   ],
   "source": [
    "# copy() : returns a copy of the set\n",
    "set1 = set2.copy()\n",
    "print(set1)"
   ]
  },
  {
   "cell_type": "code",
   "execution_count": 77,
   "id": "09978b75",
   "metadata": {},
   "outputs": [
    {
     "name": "stdout",
     "output_type": "stream",
     "text": [
      "set()\n"
     ]
    }
   ],
   "source": [
    "# clear() : Removes all the elements from the set\n",
    "set2.clear()\n",
    "print(set2)"
   ]
  },
  {
   "cell_type": "code",
   "execution_count": 78,
   "id": "ed14bb14",
   "metadata": {},
   "outputs": [
    {
     "name": "stdout",
     "output_type": "stream",
     "text": [
      "{'Samsung', 'MI'}\n"
     ]
    }
   ],
   "source": [
    "# difference() : Returns a set contating the difference between two or more sets\n",
    "x = {'Apple','Banana','cherry'}\n",
    "y = {'Samsung','MI','Apple'}\n",
    "z = y.difference(x)\n",
    "print(z)"
   ]
  },
  {
   "cell_type": "code",
   "execution_count": 79,
   "id": "1a5804bb",
   "metadata": {},
   "outputs": [
    {
     "name": "stdout",
     "output_type": "stream",
     "text": [
      "{'Samsung', 'MI'}\n"
     ]
    }
   ],
   "source": [
    "# difference_update() : Removes the items in this set that are also in included in another specified set\n",
    "y.difference_update(x)\n",
    "print(y)"
   ]
  },
  {
   "cell_type": "code",
   "execution_count": 81,
   "id": "7e4f351e",
   "metadata": {},
   "outputs": [
    {
     "name": "stdout",
     "output_type": "stream",
     "text": [
      "{'X', 'D', 'C', 'B', 'A'}\n",
      "{'D', 'C', 'B', 'A'}\n"
     ]
    }
   ],
   "source": [
    "# discard() : remove the specified item\n",
    "print(set1)\n",
    "set1.discard('X')\n",
    "print(set1)"
   ]
  },
  {
   "cell_type": "code",
   "execution_count": 84,
   "id": "6bd1f3c0",
   "metadata": {},
   "outputs": [
    {
     "name": "stdout",
     "output_type": "stream",
     "text": [
      "{'Apple', 'Banana', 'cherry'}\n"
     ]
    },
    {
     "data": {
      "text/plain": [
       "{'Apple'}"
      ]
     },
     "execution_count": 84,
     "metadata": {},
     "output_type": "execute_result"
    }
   ],
   "source": [
    "# intersection() : Returns a set, that is the intersection of two other sets\n",
    "print(x)\n",
    "y.add('Apple')\n",
    "y.intersection(x)"
   ]
  },
  {
   "cell_type": "code",
   "execution_count": 87,
   "id": "3363ce1a",
   "metadata": {},
   "outputs": [
    {
     "name": "stdout",
     "output_type": "stream",
     "text": [
      "{'Apple'}\n"
     ]
    }
   ],
   "source": [
    "# intersection_update(): Removes the items in this set that are not present in other, specified set(s)\n",
    "y.intersection_update(x)\n",
    "print(y)"
   ]
  },
  {
   "cell_type": "code",
   "execution_count": 88,
   "id": "63f63a34",
   "metadata": {},
   "outputs": [
    {
     "name": "stdout",
     "output_type": "stream",
     "text": [
      "False\n"
     ]
    }
   ],
   "source": [
    "# idisjoint() : returns whether two sets have an intersection or not\n",
    "x = {'Apple','Banana','cherry'}\n",
    "y = {'Samsung','MI','Apple'}\n",
    "z = x.isdisjoint(y)\n",
    "print(z)"
   ]
  },
  {
   "cell_type": "code",
   "execution_count": 92,
   "id": "f1321aa1",
   "metadata": {},
   "outputs": [
    {
     "name": "stdout",
     "output_type": "stream",
     "text": [
      "False\n",
      "True\n"
     ]
    }
   ],
   "source": [
    "# issubset() : returns whether another set contains this set or not\n",
    "x = {\"apple\", \"banana\", \"cherry\"}\n",
    "y = {\"samsung\", \"mi\", \"apple\",'banana','cherry'}\n",
    "print(y.issubset(x))\n",
    "z = x.issubset(y)\n",
    "print(z)"
   ]
  },
  {
   "cell_type": "code",
   "execution_count": 93,
   "id": "bba484aa",
   "metadata": {},
   "outputs": [
    {
     "name": "stdout",
     "output_type": "stream",
     "text": [
      "True\n"
     ]
    }
   ],
   "source": [
    "# issubupper() : Returns whether this set contains another set or not\n",
    "x = {\"apple\", \"banana\", \"cherry\"}\n",
    "y = {\"samsung\", \"mi\", \"apple\",'banana','cherry'}\n",
    "\n",
    "z = y.issuperset(x)\n",
    "print(z)"
   ]
  },
  {
   "cell_type": "code",
   "execution_count": 94,
   "id": "fbfa4d31",
   "metadata": {},
   "outputs": [
    {
     "data": {
      "text/plain": [
       "3"
      ]
     },
     "execution_count": 94,
     "metadata": {},
     "output_type": "execute_result"
    }
   ],
   "source": [
    "# len() : Finds length of set\n",
    "len(x)"
   ]
  },
  {
   "cell_type": "code",
   "execution_count": 95,
   "id": "6ae18d73",
   "metadata": {},
   "outputs": [
    {
     "name": "stdout",
     "output_type": "stream",
     "text": [
      "{'banana', 'cherry', 'apple'}\n",
      "banana\n",
      "{'cherry', 'apple'}\n"
     ]
    }
   ],
   "source": [
    "# pop() : Removes an element from the set and returns the removed value\n",
    "print(x)\n",
    "print(x.pop())\n",
    "print(x)"
   ]
  },
  {
   "cell_type": "code",
   "execution_count": 97,
   "id": "0f69d3bc",
   "metadata": {},
   "outputs": [
    {
     "name": "stdout",
     "output_type": "stream",
     "text": [
      "{'samsung', 'apple', 'banana', 'mi', 'cherry'}\n",
      "{'samsung', 'apple', 'banana', 'cherry'}\n"
     ]
    }
   ],
   "source": [
    "# remove() : Removes the specified element\n",
    "print(y)\n",
    "y.remove('mi')\n",
    "print(y)"
   ]
  },
  {
   "cell_type": "code",
   "execution_count": 98,
   "id": "a01de270",
   "metadata": {},
   "outputs": [
    {
     "name": "stdout",
     "output_type": "stream",
     "text": [
      "{'samsung', 'banana', 'cherry', 'mi'}\n"
     ]
    }
   ],
   "source": [
    "# symmetric_difference() : Returns a set with the symmetric difference of two sets\n",
    "x = {\"apple\", \"banana\", \"cherry\"}\n",
    "y = {\"samsung\", \"mi\", \"apple\"}\n",
    "\n",
    "z = y.symmetric_difference(x)\n",
    "print(z)"
   ]
  },
  {
   "cell_type": "code",
   "execution_count": 99,
   "id": "634115e0",
   "metadata": {},
   "outputs": [
    {
     "name": "stdout",
     "output_type": "stream",
     "text": [
      "{'samsung', 'banana', 'mi', 'cherry'}\n"
     ]
    }
   ],
   "source": [
    "# symmetric_difference_update(): inserts the symmetric differences from this set and another\n",
    "x = {\"apple\", \"banana\", \"cherry\"}\n",
    "y = {\"samsung\", \"mi\", \"apple\"}\n",
    "\n",
    "y.symmetric_difference_update(x)\n",
    "print(y)"
   ]
  },
  {
   "cell_type": "code",
   "execution_count": 100,
   "id": "b9adb87c",
   "metadata": {},
   "outputs": [
    {
     "name": "stdout",
     "output_type": "stream",
     "text": [
      "{'samsung', 'banana', 'mi', 'cherry', 'apple'}\n"
     ]
    }
   ],
   "source": [
    "# union() : returns a set containing the union of sets\n",
    "z = x.union(y)\n",
    "print(z)"
   ]
  },
  {
   "cell_type": "code",
   "execution_count": 102,
   "id": "a0eb0b14",
   "metadata": {},
   "outputs": [
    {
     "name": "stdout",
     "output_type": "stream",
     "text": [
      "{'samsung', 'banana', 'mi', 'cherry', 'apple'}\n"
     ]
    }
   ],
   "source": [
    "# update() : Update the set with the union of this set and others\n",
    "x = {\"apple\", \"banana\", \"cherry\"}\n",
    "y = {\"samsung\", \"mi\", \"apple\"}\n",
    "x.update(y)\n",
    "print(x)"
   ]
  },
  {
   "cell_type": "markdown",
   "id": "6fa8210a",
   "metadata": {},
   "source": [
    "## Dictionary\n",
    "       \n",
    "A dictionary is a collection which is unordered, changeable and indexed. Python dictionaries are written with curly brackets, and they ahve key and values.       "
   ]
  },
  {
   "cell_type": "code",
   "execution_count": null,
   "id": "e23fc1b4",
   "metadata": {},
   "outputs": [],
   "source": []
  }
 ],
 "metadata": {
  "kernelspec": {
   "display_name": "Python 3",
   "language": "python",
   "name": "python3"
  },
  "language_info": {
   "codemirror_mode": {
    "name": "ipython",
    "version": 3
   },
   "file_extension": ".py",
   "mimetype": "text/x-python",
   "name": "python",
   "nbconvert_exporter": "python",
   "pygments_lexer": "ipython3",
   "version": "3.8.8"
  }
 },
 "nbformat": 4,
 "nbformat_minor": 5
}
