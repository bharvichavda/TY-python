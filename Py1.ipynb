{
 "cells": [
  {
   "cell_type": "code",
   "execution_count": 24,
   "id": "16a4e683",
   "metadata": {},
   "outputs": [],
   "source": [
    "Name = \" Bharvi\"\n",
    "Department = 'Statistics'\n",
    "Github = 'bharvichavda'"
   ]
  },
  {
   "cell_type": "code",
   "execution_count": 26,
   "id": "c7528f2a",
   "metadata": {},
   "outputs": [
    {
     "name": "stdout",
     "output_type": "stream",
     "text": [
      "My name is Bharvi\n",
      "Bharvi\n",
      "abc\n"
     ]
    }
   ],
   "source": [
    "x = \"abc\"\n",
    "def f() :\n",
    "    x = \"Bharvi\"\n",
    "    print(\"My name is\",x)\n",
    "    print(x)\n",
    "f()\n",
    "print(x)"
   ]
  },
  {
   "cell_type": "code",
   "execution_count": 25,
   "id": "8a42e904",
   "metadata": {},
   "outputs": [],
   "source": [
    "b = 3    # 3 is a number\n",
    "c = \"3\"  # 3 is a string"
   ]
  },
  {
   "cell_type": "code",
   "execution_count": 9,
   "id": "004d2509",
   "metadata": {},
   "outputs": [
    {
     "data": {
      "text/plain": [
       "' msnxjkwehifuheiou93\\nkdnkj3\\nnek3n\\n'"
      ]
     },
     "execution_count": 9,
     "metadata": {},
     "output_type": "execute_result"
    }
   ],
   "source": [
    "# Single line comment\n",
    "# Multiple line comments\n",
    "\"\"\" msnxjkwehifuheiou93\n",
    "kdnkj3\n",
    "nek3n\n",
    "\"\"\""
   ]
  },
  {
   "cell_type": "code",
   "execution_count": 13,
   "id": "f86a35f6",
   "metadata": {},
   "outputs": [
    {
     "name": "stdout",
     "output_type": "stream",
     "text": [
      "1\n",
      "2\n",
      "4\n",
      "3\n"
     ]
    }
   ],
   "source": [
    "# to declare variable\n",
    "# variable starts from A-Z, a-z\n",
    "# We can't puut keywords in python as a variable except _\n",
    "# Python is a case sensitive language\n",
    "A_ = 1\n",
    "a_ = 2\n",
    "a = 3\n",
    "A = 4\n",
    "print(A_)\n",
    "print(a_)\n",
    "print(A)\n",
    "print(a)"
   ]
  },
  {
   "cell_type": "code",
   "execution_count": 18,
   "id": "23088f34",
   "metadata": {},
   "outputs": [
    {
     "name": "stdout",
     "output_type": "stream",
     "text": [
      "Addition= 15\n",
      "Subtraction= 5\n",
      "Multiplication= 50\n",
      "Division= 2.0\n",
      "Power= 100000\n",
      "Modulus= 0\n",
      "Floor division= 2\n"
     ]
    }
   ],
   "source": [
    "# Python as A Calculator\n",
    "x, y = 10, 5\n",
    "print(\"Addition=\",x+y)\n",
    "print(\"Subtraction=\",x-y)\n",
    "print(\"Multiplication=\",x*y)  \n",
    "print(\"Division=\",x/y)\n",
    "print(\"Power=\",x**y)\n",
    "print(\"Modulus=\",x%y)\n",
    "print(\"Floor division=\",x//y)"
   ]
  },
  {
   "cell_type": "code",
   "execution_count": 19,
   "id": "b2edcf00",
   "metadata": {},
   "outputs": [
    {
     "name": "stdout",
     "output_type": "stream",
     "text": [
      "Orange\n",
      "Banana\n",
      "Cherry\n",
      "241\n",
      "fwdfwe\n",
      "3235\n"
     ]
    }
   ],
   "source": [
    "#Assigning Multiple Values to a Variable\n",
    "x, y, z,a,b,c,f = \"Orange\", \"Banana\", \"Cherry\",241,\"fwdfwe\",\"3235\",\"sdasd\"\n",
    "print(x)\n",
    "print(y)\n",
    "print(z)\n",
    "print(a)\n",
    "print(b)\n",
    "print(c)"
   ]
  }
 ],
 "metadata": {
  "kernelspec": {
   "display_name": "Python 3",
   "language": "python",
   "name": "python3"
  },
  "language_info": {
   "codemirror_mode": {
    "name": "ipython",
    "version": 3
   },
   "file_extension": ".py",
   "mimetype": "text/x-python",
   "name": "python",
   "nbconvert_exporter": "python",
   "pygments_lexer": "ipython3",
   "version": "3.8.8"
  }
 },
 "nbformat": 4,
 "nbformat_minor": 5
}
