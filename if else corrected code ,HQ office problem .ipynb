{
 "cells": [
  {
   "cell_type": "markdown",
   "metadata": {},
   "source": [
    "# IF ELSE"
   ]
  },
  {
   "cell_type": "code",
   "execution_count": 4,
   "metadata": {},
   "outputs": [
    {
     "name": "stdout",
     "output_type": "stream",
     "text": [
      "13\n",
      "a is 2 digit odd int\n"
     ]
    }
   ],
   "source": [
    "# corrected code\n",
    "b = int(input())\n",
    "c = b%2\n",
    "if c==1 : \n",
    "    if b > 10:\n",
    "        print('a is 2 digit odd int')\n",
    "    else : \n",
    "        print('a is a single digit odd int')\n",
    "else : \n",
    "    print('even')"
   ]
  },
  {
   "cell_type": "code",
   "execution_count": 13,
   "metadata": {},
   "outputs": [
    {
     "name": "stdout",
     "output_type": "stream",
     "text": [
      "Enter District Name Raigad\n",
      "Division HQ is Located in Mumbai\n"
     ]
    }
   ],
   "source": [
    "# Know the Divisional HQ of Districts of various all regions of Maharashtra\n",
    "# Maharashtra State is Mainly Divided in the 5 regions Geographically.\n",
    "Maharashtra = (\"Kokan, west_Maharashtra, North_Maharashtra, Marathwada, Vidarbh\")\n",
    "District =input(\"Enter District Name \")\n",
    "Paschim_Maharashtra = (\"Kolhapur, Pune, Sangli, Satara, Solapur\")\n",
    "Khandesh = (\"Dhule, Jalgaon, Nandurbar, Nashik,Ahmednagar\")\n",
    "Marathwada = (\"Aurangabad, Beed, Jalna, Osmanabad, Nanded, Latur, Parbhani, Hingoli\")\n",
    "Vidarbh = (\"Bhandara, Chandrapur, Gadch iroli, Gondia, Nagpur, Wardha, Akola, Amravati, Buldana, Yavatmal, Washim\")\n",
    "Amravati = (\"Akola, Amravati, Buldana, Yavatmal, Washim\")\n",
    "Kokan = (\"Mumbai City, Mumbai Suburban, Thane, Palghar, Raigad, Ratnagiri ,Sindhudurg\")\n",
    "if District in Kokan:\n",
    "    print(\"Division HQ is Located in Mumbai\")\n",
    "elif District in Paschim_Maharashtra : \n",
    "    print(\"Division Headquarter is Located in Pune\")\n",
    "elif District in Khandesh:\n",
    "    print(\"Division Headquarter is Located Nasik\")\n",
    "elif District in Marathwada:\n",
    "    print(\"Division Headquarter is Located in Aurangabad\")\n",
    "elif District in Vidarbh:\n",
    "    if District in Amravati:\n",
    "        print(\"Division Headquarter is Located in Amravati\")\n",
    "    else:\n",
    "        print(\"Division Headquarter is Located in Nagpur\")\n",
    "else:\n",
    "    print(\"District is not in MH\")    "
   ]
  },
  {
   "cell_type": "code",
   "execution_count": null,
   "metadata": {},
   "outputs": [],
   "source": []
  }
 ],
 "metadata": {
  "kernelspec": {
   "display_name": "Python 3",
   "language": "python",
   "name": "python3"
  },
  "language_info": {
   "codemirror_mode": {
    "name": "ipython",
    "version": 3
   },
   "file_extension": ".py",
   "mimetype": "text/x-python",
   "name": "python",
   "nbconvert_exporter": "python",
   "pygments_lexer": "ipython3",
   "version": "3.8.5"
  }
 },
 "nbformat": 4,
 "nbformat_minor": 4
}
