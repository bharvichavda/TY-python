{
 "cells": [
  {
   "cell_type": "code",
   "execution_count": 2,
   "id": "9c064021",
   "metadata": {},
   "outputs": [
    {
     "name": "stdout",
     "output_type": "stream",
     "text": [
      "5\n",
      "<class 'int'>\n",
      "Good Day!\n",
      "<class 'str'>\n",
      "global\n",
      "<class 'str'>\n"
     ]
    }
   ],
   "source": [
    "#Data Types in Python\n",
    "# text data or string \n",
    "x, y, z = 5, \"Good Day!\", \"global\"\n",
    "print(x)\n",
    "print(type(x))\n",
    "print(y)\n",
    "print(type(y))\n",
    "print(z)\n",
    "print(type(z)) \n",
    "# String Must be in Single or Double Quote"
   ]
  },
  {
   "cell_type": "markdown",
   "id": "2ebae0e7",
   "metadata": {},
   "source": [
    "There are three numeric types in python :     \n",
    "      \n",
    "1. int      \n",
    "2. float      \n",
    "3. complex     \n"
   ]
  },
  {
   "cell_type": "code",
   "execution_count": 6,
   "id": "df05c1cc",
   "metadata": {},
   "outputs": [
    {
     "name": "stdout",
     "output_type": "stream",
     "text": [
      "<class 'int'>\n",
      "<class 'float'>\n",
      "<class 'complex'>\n"
     ]
    }
   ],
   "source": [
    "x = 1      # int\n",
    "y = 2.8    #float\n",
    "z = 1j     #complex\n",
    "# check type\n",
    "print(type(x))\n",
    "print(type(y))\n",
    "print(type(z))"
   ]
  },
  {
   "cell_type": "code",
   "execution_count": 8,
   "id": "16e23ccc",
   "metadata": {},
   "outputs": [
    {
     "name": "stdout",
     "output_type": "stream",
     "text": [
      "1.0\n",
      "2\n",
      "(1+0j)\n",
      "<class 'float'>\n",
      "<class 'int'>\n",
      "<class 'complex'>\n"
     ]
    }
   ],
   "source": [
    "# conversion\n",
    "a = float(x)\n",
    "b = int(y)\n",
    "c = complex(x)\n",
    "\n",
    "\n",
    "print(a)\n",
    "print(b)\n",
    "print(c)\n",
    "\n",
    "print(type(a))\n",
    "print(type(b))\n",
    "print(type(c))"
   ]
  },
  {
   "cell_type": "markdown",
   "id": "0823a93b",
   "metadata": {},
   "source": [
    "Strings in python are surrounded by either single quotation marks or double quotation marks"
   ]
  },
  {
   "cell_type": "code",
   "execution_count": 10,
   "id": "e4e728f3",
   "metadata": {},
   "outputs": [
    {
     "name": "stdout",
     "output_type": "stream",
     "text": [
      "Hello\n",
      "Future is DS\n",
      "I love programming\n"
     ]
    }
   ],
   "source": [
    "# Assign string to variable \n",
    "a = 'Hello'\n",
    "print(a)\n",
    "#multiple strings\n",
    "b = \"Future is DS\"\n",
    "print(b )\n",
    "# three single quotes\n",
    "c = 'I love programming'\n",
    "print(c)"
   ]
  },
  {
   "cell_type": "markdown",
   "id": "36986abf",
   "metadata": {},
   "source": [
    "### Methods    \n",
    "1.) strip() - removes any whitespace from the beginning or the end    \n",
    "2.) lower() - returns string in lower case     \n",
    "3.) upper() - returns string in upper case     \n",
    "4.) replace() - replces a string with another string     \n",
    "5.) split() - splits the string into substrings if it finds instances of the seperator     "
   ]
  },
  {
   "cell_type": "code",
   "execution_count": 15,
   "id": "617e806e",
   "metadata": {},
   "outputs": [
    {
     "name": "stdout",
     "output_type": "stream",
     "text": [
      "Hi, how are you?      you are from?\n",
      "   hi, how are you?      you are from?    \n",
      "   HI, HOW ARE YOU?      YOU ARE FROM?    \n",
      "   Hi, hJw are yJu?      yJu are frJm?    \n",
      "['   Hi, h', 'w are y', 'u?      y', 'u are fr', 'm?    ']\n"
     ]
    }
   ],
   "source": [
    "a = \"   Hi, how are you?      you are from?    \"\n",
    "print(a.strip())\n",
    "print(a.lower())\n",
    "print(a.upper())\n",
    "print(a.replace(\"o\", \"J\"))\n",
    "print(a.split(\"o\"))"
   ]
  },
  {
   "cell_type": "code",
   "execution_count": 17,
   "id": "111de714",
   "metadata": {},
   "outputs": [
    {
     "name": "stdout",
     "output_type": "stream",
     "text": [
      "My name is john, and I am 36\n"
     ]
    }
   ],
   "source": [
    "# We can combine strings and numbers by using the format() method\n",
    "# The format() method takes the passes arguments, formats them adn replaces them in the string where \n",
    "# the placeholders {} are\n",
    "age = 36 \n",
    "txt = \"My name is john, and I am {}\"\n",
    "print(txt.format(age))"
   ]
  },
  {
   "cell_type": "code",
   "execution_count": 19,
   "id": "9d07ec1d",
   "metadata": {},
   "outputs": [
    {
     "name": "stdout",
     "output_type": "stream",
     "text": [
      "13\n",
      "12\n",
      "90\n",
      "I have 13 pack of 12 for 90 rupees\n"
     ]
    }
   ],
   "source": [
    "# Instance 1 for format\n",
    "quantity = input()\n",
    "items = input()\n",
    "price = input()\n",
    "Myorder = \"I have {} pack of {} for {} rupees\"\n",
    "print(Myorder.format(quantity,items,price))"
   ]
  },
  {
   "cell_type": "code",
   "execution_count": 20,
   "id": "a6d3bb31",
   "metadata": {},
   "outputs": [
    {
     "name": "stdout",
     "output_type": "stream",
     "text": [
      "12\n",
      "13\n",
      "70\n",
      "I have 12 pack of 13 for 70 Rupees. Rupees is Indian Currency\n"
     ]
    }
   ],
   "source": [
    "# instance 2 for format\n",
    "quantity=input()\n",
    "items=input()\n",
    "price=input()\n",
    "Country=\"Indian\"\n",
    "Myorder=\"I have {a} pack of {b} for {c} Rupees. Rupees is {d} Currency\"\n",
    "print(Myorder.format(a=quantity,b=items,c=price,d=Country))"
   ]
  },
  {
   "cell_type": "code",
   "execution_count": null,
   "id": "9018524c",
   "metadata": {},
   "outputs": [],
   "source": [
    "# instance 3 for format\n",
    "Name = input()\n",
    "Age = input(int())\n",
    "Class = 'TY'\n",
    "College = \"SP\"\n",
    "MyCollege = \"I am {a}, from {c} of college {d}, and I am {b}\"\n",
    "print(Mycollege.format(a = Name,b = Age,c = Class,d = College))"
   ]
  },
  {
   "cell_type": "code",
   "execution_count": null,
   "id": "57e1306e",
   "metadata": {},
   "outputs": [],
   "source": []
  }
 ],
 "metadata": {
  "kernelspec": {
   "display_name": "Python 3",
   "language": "python",
   "name": "python3"
  },
  "language_info": {
   "codemirror_mode": {
    "name": "ipython",
    "version": 3
   },
   "file_extension": ".py",
   "mimetype": "text/x-python",
   "name": "python",
   "nbconvert_exporter": "python",
   "pygments_lexer": "ipython3",
   "version": "3.8.8"
  }
 },
 "nbformat": 4,
 "nbformat_minor": 5
}
