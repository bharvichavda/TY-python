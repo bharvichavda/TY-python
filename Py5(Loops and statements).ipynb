{
 "cells": [
  {
   "cell_type": "markdown",
   "id": "5e813724",
   "metadata": {},
   "source": [
    "# LOOPS and STATEMENTS\n",
    "     \n",
    "+ if-else     \n",
    "+ while     \n",
    "+ for    \n",
    "     \n",
    "          \n",
    "## If Statement\n",
    "The *if...elif...else* statement is used in pythin for decision making.    \n",
    "**if..statement syntax**     \n",
    "if condition:          \n",
    "         statement(s)     \n",
    "The program evaluates the test expression and will execute statement(s) only if the text expression is True.       \n",
    "         \n",
    "Python interprets non-zero values as TRUE. None and 0 are interpreted as FALSE.\n"
   ]
  },
  {
   "cell_type": "code",
   "execution_count": 1,
   "id": "cda8d629",
   "metadata": {},
   "outputs": [
    {
     "name": "stdout",
     "output_type": "stream",
     "text": [
      "b is greater than a\n",
      "a is less than b\n"
     ]
    }
   ],
   "source": [
    "a = 33\n",
    "b = 20\n",
    "if b<a:\n",
    "    print(\"b is greater than a\")\n",
    "print('a is less than b')\n",
    "# Indentation matters"
   ]
  },
  {
   "cell_type": "code",
   "execution_count": 2,
   "id": "cf39e6c7",
   "metadata": {},
   "outputs": [
    {
     "name": "stdout",
     "output_type": "stream",
     "text": [
      "nsjiahs\n"
     ]
    }
   ],
   "source": [
    "if a<b:\n",
    "    print(\"fsjkh\")\n",
    "print(\"nsjiahs\")"
   ]
  },
  {
   "cell_type": "markdown",
   "id": "f200e2ac",
   "metadata": {},
   "source": [
    "## If...else Statement\n",
    "### Syntax\n",
    "if condition:      \n",
    "    body of if      \n",
    "else:      \n",
    "    body of else     "
   ]
  },
  {
   "cell_type": "code",
   "execution_count": 3,
   "id": "85f52268",
   "metadata": {},
   "outputs": [
    {
     "name": "stdout",
     "output_type": "stream",
     "text": [
      "negative number\n"
     ]
    }
   ],
   "source": [
    "num = -19\n",
    "if num>0:\n",
    "    print(\"positive number\")\n",
    "else:\n",
    "    print(\"negative number\")"
   ]
  },
  {
   "cell_type": "code",
   "execution_count": 4,
   "id": "2c277913",
   "metadata": {},
   "outputs": [
    {
     "name": "stdout",
     "output_type": "stream",
     "text": [
      "a is a single digit odd no.\n"
     ]
    }
   ],
   "source": [
    "a = 9\n",
    "b = a%2\n",
    "if b == 1:\n",
    "    if a>10:\n",
    "        print(\"a is 2 digit odd number\")\n",
    "    else:\n",
    "        print(\"a is a single digit odd no.\")\n",
    "else:\n",
    "    print(\"a is an even no.\")"
   ]
  },
  {
   "cell_type": "code",
   "execution_count": 6,
   "id": "690b8f26",
   "metadata": {},
   "outputs": [
    {
     "name": "stdout",
     "output_type": "stream",
     "text": [
      "Number is positive\n"
     ]
    }
   ],
   "source": [
    "num = 8\n",
    "if num > 0 :\n",
    "    print(\"Number is positive\")\n",
    "else:\n",
    "    print(\"Number is negative\")"
   ]
  },
  {
   "cell_type": "markdown",
   "id": "b4409bba",
   "metadata": {},
   "source": [
    "## if...elif...else Statement\n",
    "### Syntax\n",
    "if test expression:         \n",
    "body of if    \n",
    "elif test expression:        \n",
    "body of elif     \n",
    "else:      \n",
    "body of else     "
   ]
  },
  {
   "cell_type": "code",
   "execution_count": 8,
   "id": "734ee4ae",
   "metadata": {},
   "outputs": [
    {
     "name": "stdout",
     "output_type": "stream",
     "text": [
      "Negative number\n"
     ]
    }
   ],
   "source": [
    "num = -1\n",
    "if num > 0:\n",
    "    print(\"positive Number\")\n",
    "elif num == 0:\n",
    "    print(\"Zero\")\n",
    "else:\n",
    "    print(\"Negative number\")"
   ]
  },
  {
   "cell_type": "code",
   "execution_count": 10,
   "id": "f2a6b0e6",
   "metadata": {},
   "outputs": [
    {
     "name": "stdout",
     "output_type": "stream",
     "text": [
      "is dumb\n"
     ]
    }
   ],
   "source": [
    "name = (\"Shravni, mayur, SSI\")\n",
    "#a = input()\n",
    "a = \"mayur\"\n",
    "if a in name:\n",
    "    print(\"is dumb\")\n",
    "else:\n",
    "    print(\"not dumb\")"
   ]
  },
  {
   "cell_type": "code",
   "execution_count": 12,
   "id": "3566a660",
   "metadata": {},
   "outputs": [
    {
     "name": "stdout",
     "output_type": "stream",
     "text": [
      "District is Jalgoan\n"
     ]
    }
   ],
   "source": [
    "Jalgoan = 'bhadagoan,Chalisgoan,Pachora,Parola,Yawala,Bhusawal'\n",
    "#city = input()\n",
    "city = 'Chalisgoan'\n",
    "if city in Jalgoan:\n",
    "    print(\"District is Jalgoan\")\n",
    "else:\n",
    "    print(\"Belongs to other districts\")"
   ]
  },
  {
   "cell_type": "code",
   "execution_count": 13,
   "id": "83c46eb5",
   "metadata": {},
   "outputs": [
    {
     "name": "stdout",
     "output_type": "stream",
     "text": [
      "a = 2\n",
      "b = 3\n",
      "c = 4\n",
      "d = 5\n",
      "Enter the number4\n",
      "Enter the number3\n"
     ]
    }
   ],
   "source": [
    "a = 1,2,4\n",
    "#a,b,c,d = input(\"a = \"),input(\"b = \"),input(\"c = \"),input(\"d = \")\n",
    "a = input(\"Enter the number\")\n",
    "b = 2\n",
    "a = 33\n",
    "c = int(input(\"Enter the number\"))\n"
   ]
  },
  {
   "cell_type": "markdown",
   "id": "b8785e4a",
   "metadata": {},
   "source": [
    "### Python program to find the largest elemt among three numbers  "
   ]
  },
  {
   "cell_type": "code",
   "execution_count": 21,
   "id": "073d8de1",
   "metadata": {},
   "outputs": [
    {
     "name": "stdout",
     "output_type": "stream",
     "text": [
      "Enter num1 = 52\n",
      "Enter num2 = 23\n",
      "Enter num3 = 44\n",
      "the largest element among three numbers is:52\n"
     ]
    }
   ],
   "source": [
    "num1 = int(input(\"Enter num1 = \"))\n",
    "num2 = int(input(\"Enter num2 = \"))\n",
    "num3 = int(input(\"Enter num3 = \"))\n",
    "\n",
    "if (num1 >= num2) and (num1 >= num3):\n",
    "    largest = num1\n",
    "elif (num2 >= num1) and (num2 >= num3):\n",
    "    largest = num2\n",
    "else:\n",
    "    largest = num3\n",
    "print(\"the largest element among three numbers is:{}\".format(largest))"
   ]
  },
  {
   "cell_type": "markdown",
   "id": "21be7ee1",
   "metadata": {},
   "source": [
    "## While Loop\n",
    "The while loop in python is used to iterate over a block of code as long as test expression(condition) is true.\n",
    "\n",
    "### Syntax:\n",
    "while test_expression :       \n",
    "    body of while      \n",
    "      \n",
    "the body of the loop is entered only if the test-expression evaluates to TRUE. After one iteration, the test expression is checked again. This process continues until the test_expression evaluates to FALSE. \n"
   ]
  },
  {
   "cell_type": "code",
   "execution_count": 4,
   "id": "196a5e8a",
   "metadata": {},
   "outputs": [
    {
     "name": "stdout",
     "output_type": "stream",
     "text": [
      "Product is 120\n"
     ]
    }
   ],
   "source": [
    "#Find product of all numbers present in a list\n",
    "lst = [1,2,3,4,5] \n",
    "product = 1\n",
    "index = 0\n",
    "while index < len(lst):\n",
    "    product *= lst[index]\n",
    "    index += 1\n",
    "print(\"Product is {}\".format(product))"
   ]
  },
  {
   "cell_type": "code",
   "execution_count": null,
   "id": "33d33d2f",
   "metadata": {},
   "outputs": [],
   "source": [
    "import math\n",
    "i = -100\n",
    "while i < -110:\n",
    "    print(i)\n",
    "    i += 1\n"
   ]
  },
  {
   "cell_type": "code",
   "execution_count": 1,
   "id": "cfa04e09",
   "metadata": {},
   "outputs": [
    {
     "data": {
      "text/plain": [
       "bool"
      ]
     },
     "execution_count": 1,
     "metadata": {},
     "output_type": "execute_result"
    }
   ],
   "source": [
    "type(True)"
   ]
  },
  {
   "cell_type": "code",
   "execution_count": 5,
   "id": "005cafc2",
   "metadata": {},
   "outputs": [
    {
     "data": {
      "text/plain": [
       "2"
      ]
     },
     "execution_count": 5,
     "metadata": {},
     "output_type": "execute_result"
    }
   ],
   "source": [
    "lst[1]"
   ]
  },
  {
   "cell_type": "code",
   "execution_count": 6,
   "id": "f465001e",
   "metadata": {},
   "outputs": [
    {
     "name": "stdout",
     "output_type": "stream",
     "text": [
      "1\n",
      "3\n",
      "5\n"
     ]
    }
   ],
   "source": [
    "i = 1\n",
    "while i < 6:\n",
    "    print(i)\n",
    "    i += 2"
   ]
  },
  {
   "cell_type": "code",
   "execution_count": 7,
   "id": "d1ff60c2",
   "metadata": {},
   "outputs": [
    {
     "name": "stdout",
     "output_type": "stream",
     "text": [
      "30\n",
      "28\n",
      "26\n",
      "24\n",
      "22\n",
      "20\n"
     ]
    }
   ],
   "source": [
    "i = 30\n",
    "while i>= 20:\n",
    "    print(i)\n",
    "    i -= 2"
   ]
  },
  {
   "cell_type": "code",
   "execution_count": 8,
   "id": "e83e3af4",
   "metadata": {},
   "outputs": [
    {
     "name": "stdout",
     "output_type": "stream",
     "text": [
      "Value: 12\n",
      "12\n",
      "<class 'int'>\n"
     ]
    }
   ],
   "source": [
    "x = int(input(\"Value: \"))\n",
    "print(x)\n",
    "print(type(x))"
   ]
  },
  {
   "cell_type": "markdown",
   "id": "69e225b9",
   "metadata": {},
   "source": [
    "### Python program to check whether given no. is Prime or not"
   ]
  },
  {
   "cell_type": "code",
   "execution_count": 15,
   "id": "a705084e",
   "metadata": {},
   "outputs": [
    {
     "name": "stdout",
     "output_type": "stream",
     "text": [
      "Enter a number: 55\n",
      "55 is divisible by 5\n",
      "55 is divisible by 11\n",
      "55 is NOT a prime number\n"
     ]
    }
   ],
   "source": [
    "num = int(input(\"Enter a number: \"))\n",
    "isDivisible = False;\n",
    "i = 2;\n",
    "while i<int(num):\n",
    "    if num % i == 0:\n",
    "        isDivisible = True;\n",
    "        print(\"{} is divisible by {}\".format(num,i))\n",
    "    i += 1;\n",
    "if isDivisible:\n",
    "    print(\"{} is NOT a prime number\".format(num))\n",
    "else:\n",
    "    print(\"{} is a Prime Number\".format(num))"
   ]
  },
  {
   "cell_type": "markdown",
   "id": "8cc96a3f",
   "metadata": {},
   "source": [
    "## For Loop\n",
    "The loop in Python is used to iterate over a sequence(list,tuple,string) or other iterable objects.          \n",
    "Iterating over a sequence is called traversal.        \n",
    "### Syntax\n",
    "for element in sequence:     \n",
    "    Body of for       \n",
    "Here, element is the variable that takes the value of the item inside the sequence on each iteration.       \n",
    "Loop continues untill we reach the last item in the sequence.      "
   ]
  },
  {
   "cell_type": "code",
   "execution_count": 16,
   "id": "7386a568",
   "metadata": {},
   "outputs": [
    {
     "name": "stdout",
     "output_type": "stream",
     "text": [
      "Product is : 120\n"
     ]
    }
   ],
   "source": [
    "# Finding product of all numbers present in the list\n",
    "lst = [1,2,3,4,5]\n",
    "prod = 1\n",
    "for i in lst:\n",
    "    prod *= i\n",
    "print(\"Product is : {}\".format(prod))"
   ]
  },
  {
   "cell_type": "code",
   "execution_count": 17,
   "id": "f6b8332f",
   "metadata": {},
   "outputs": [
    {
     "name": "stdout",
     "output_type": "stream",
     "text": [
      "apple\n",
      "banana\n",
      "cherry\n"
     ]
    }
   ],
   "source": [
    "fruits = ['apple','banana','cherry']\n",
    "for x in fruits:\n",
    "    print(x)\n",
    "    "
   ]
  },
  {
   "cell_type": "code",
   "execution_count": 18,
   "id": "0f634ac5",
   "metadata": {},
   "outputs": [
    {
     "name": "stdout",
     "output_type": "stream",
     "text": [
      "p\n",
      "y\n",
      "t\n",
      "h\n",
      "o\n",
      "n\n"
     ]
    }
   ],
   "source": [
    "b = 'python'\n",
    "for x in b:\n",
    "    print(x)\n",
    "    "
   ]
  },
  {
   "cell_type": "code",
   "execution_count": 19,
   "id": "a97e3e3c",
   "metadata": {},
   "outputs": [
    {
     "name": "stdout",
     "output_type": "stream",
     "text": [
      "apple\n",
      "mango\n",
      "banana\n"
     ]
    }
   ],
   "source": [
    "fruits = [\"apple\",'mango','banana','cherry']\n",
    "for x in fruits:\n",
    "    print(x)\n",
    "    if x == \"banana\":\n",
    "        break"
   ]
  },
  {
   "cell_type": "code",
   "execution_count": 20,
   "id": "6a32529e",
   "metadata": {},
   "outputs": [
    {
     "name": "stdout",
     "output_type": "stream",
     "text": [
      "apple\n",
      "mango\n",
      "banana\n",
      "cherry\n"
     ]
    }
   ],
   "source": [
    "fruits = [\"apple\",'mango','banana','cherry']\n",
    "for x in fruits:\n",
    "    print(x)\n",
    "    if x == \"banana\":\n",
    "        continue"
   ]
  },
  {
   "cell_type": "code",
   "execution_count": 21,
   "id": "7cdb1988",
   "metadata": {},
   "outputs": [
    {
     "ename": "SyntaxError",
     "evalue": "invalid syntax (<ipython-input-21-b986856b6a15>, line 4)",
     "output_type": "error",
     "traceback": [
      "\u001b[1;36m  File \u001b[1;32m\"<ipython-input-21-b986856b6a15>\"\u001b[1;36m, line \u001b[1;32m4\u001b[0m\n\u001b[1;33m    break == \"banana\"\u001b[0m\n\u001b[1;37m          ^\u001b[0m\n\u001b[1;31mSyntaxError\u001b[0m\u001b[1;31m:\u001b[0m invalid syntax\n"
     ]
    }
   ],
   "source": [
    "fruits = [\"apple\",'mango','banana','cherry']\n",
    "for x in fruits:\n",
    "    print(x)\n",
    "    break == \"banana\""
   ]
  },
  {
   "cell_type": "code",
   "execution_count": 23,
   "id": "2c352ec9",
   "metadata": {},
   "outputs": [
    {
     "name": "stdout",
     "output_type": "stream",
     "text": [
      "1\n",
      "2\n",
      "3\n",
      "4\n",
      "5\n"
     ]
    }
   ],
   "source": [
    "nums = [1,2,3,4,5]\n",
    "for x in nums:\n",
    "    if x == '4':\n",
    "        continue\n",
    "    print(x)"
   ]
  },
  {
   "cell_type": "code",
   "execution_count": 24,
   "id": "18cf62d6",
   "metadata": {},
   "outputs": [
    {
     "name": "stdout",
     "output_type": "stream",
     "text": [
      "2\n",
      "3\n",
      "5\n",
      "6\n",
      "7\n",
      "8\n",
      "9\n"
     ]
    }
   ],
   "source": [
    "for x in range(2,10):\n",
    "    if x == 4:\n",
    "        continue\n",
    "    print(x)"
   ]
  },
  {
   "cell_type": "markdown",
   "id": "9ec375ad",
   "metadata": {},
   "source": [
    "## range() function\n",
    "We can generate a sequence of numbers using range() function, range(10) will generate numbers from 0 to 9(10 numbers).      \n",
    "We can also define the start, stop and step size as range(start,stop,step size). Step size by default is 1.      \n",
    "This function does not store all the values in memory, it would be inefficient. So it remembers the start, stop, step size and generates the next number on the go.\n"
   ]
  },
  {
   "cell_type": "code",
   "execution_count": 27,
   "id": "013a8a93",
   "metadata": {},
   "outputs": [
    {
     "data": {
      "text/plain": [
       "[10, 12, 14, 16, 18]"
      ]
     },
     "execution_count": 27,
     "metadata": {},
     "output_type": "execute_result"
    }
   ],
   "source": [
    "list(range(10,20,2))"
   ]
  },
  {
   "cell_type": "code",
   "execution_count": 28,
   "id": "caec3524",
   "metadata": {},
   "outputs": [
    {
     "name": "stdout",
     "output_type": "stream",
     "text": [
      "0\n",
      "1\n",
      "2\n",
      "3\n",
      "4\n",
      "5\n",
      "6\n",
      "7\n",
      "8\n",
      "9\n"
     ]
    }
   ],
   "source": [
    "# print range of 10\n",
    "for i in range(10):\n",
    "    print(i)"
   ]
  },
  {
   "cell_type": "code",
   "execution_count": 30,
   "id": "4d252814",
   "metadata": {},
   "outputs": [
    {
     "name": "stdout",
     "output_type": "stream",
     "text": [
      "1\n",
      "3\n",
      "5\n",
      "7\n",
      "9\n",
      "11\n",
      "13\n",
      "15\n",
      "17\n",
      "19\n"
     ]
    }
   ],
   "source": [
    "# Print range of numbers from 1 to 20 with step size 2\n",
    "for i in range(1,20,2):\n",
    "    print(i)"
   ]
  },
  {
   "cell_type": "markdown",
   "id": "74747888",
   "metadata": {},
   "source": [
    "## For loop with Else\n",
    "A for loop can have an optional else block as well. The else part is executed if the items in the sequence used in for loop exhausts.    \n",
    "Break statement can be used to stop a for loop. In such cases, the else part is ignored.      \n",
    "Hence, a for loop's else part runs if no break occurs. "
   ]
  },
  {
   "cell_type": "code",
   "execution_count": 32,
   "id": "240aa3ed",
   "metadata": {},
   "outputs": [
    {
     "name": "stdout",
     "output_type": "stream",
     "text": [
      "1\n",
      "3\n",
      "5\n",
      "7\n",
      "9\n",
      "11\n",
      "13\n",
      "15\n",
      "17\n",
      "19\n",
      "no item left in the list\n"
     ]
    }
   ],
   "source": [
    "num = [1,2,3]\n",
    "num = list(range(1,20,2))\n",
    "# iterating over a list\n",
    "for item in num:\n",
    "    print(item)\n",
    "else:\n",
    "    print(\"no item left in the list\")"
   ]
  },
  {
   "cell_type": "code",
   "execution_count": 33,
   "id": "f80832e0",
   "metadata": {},
   "outputs": [
    {
     "name": "stdout",
     "output_type": "stream",
     "text": [
      "1\n",
      "2\n",
      "3\n",
      "4\n",
      "5\n",
      "6\n",
      "7\n",
      "8\n",
      "9\n",
      "10\n"
     ]
    }
   ],
   "source": [
    "for i in range(1,100):\n",
    "    print(i)\n",
    "    if i == 10:\n",
    "        break"
   ]
  },
  {
   "cell_type": "code",
   "execution_count": 36,
   "id": "eb3c6b45",
   "metadata": {},
   "outputs": [
    {
     "name": "stdout",
     "output_type": "stream",
     "text": [
      "p\n",
      "y\n",
      "t\n",
      "h\n"
     ]
    }
   ],
   "source": [
    "for i in \"python\":\n",
    "    print(i)\n",
    "    if i == 'h':\n",
    "        break"
   ]
  },
  {
   "cell_type": "code",
   "execution_count": 39,
   "id": "f25721be",
   "metadata": {},
   "outputs": [
    {
     "name": "stdout",
     "output_type": "stream",
     "text": [
      "Prime numbers between 20 and 40 are :\n",
      "23\n",
      "29\n",
      "31\n",
      "37\n"
     ]
    }
   ],
   "source": [
    "# Python program to display all prime numbers within an interval\n",
    "index1 = 20\n",
    "index2 = 40\n",
    "print(\"Prime numbers between {0} and {1} are :\".format(index1, index2))\n",
    "\n",
    "for num in range(index1, index2+1):\n",
    "    if num > 1:\n",
    "        isDivisible = False;\n",
    "        for index in range(2,num):\n",
    "            if num % index == 0:\n",
    "                isDivisible = True;\n",
    "        if not isDivisible:\n",
    "            print(num);"
   ]
  },
  {
   "cell_type": "code",
   "execution_count": 47,
   "id": "4cc65996",
   "metadata": {},
   "outputs": [
    {
     "name": "stdout",
     "output_type": "stream",
     "text": [
      "Enter SMS:I love myself\n",
      "Sms is ham\n"
     ]
    }
   ],
   "source": [
    "sms = input(\"Enter SMS:\")\n",
    "l = len(sms)\n",
    "if l < 110:\n",
    "    print('Sms is ham')\n",
    "elif l>150:\n",
    "    print('SMS is spam')\n",
    "else:\n",
    "    print('Need more information')"
   ]
  },
  {
   "cell_type": "code",
   "execution_count": 48,
   "id": "bc0954c1",
   "metadata": {},
   "outputs": [
    {
     "data": {
      "text/plain": [
       "[1, 1, 1, 2, 2, 2]"
      ]
     },
     "execution_count": 48,
     "metadata": {},
     "output_type": "execute_result"
    }
   ],
   "source": [
    "[1,1,1]+[2,2,2]"
   ]
  },
  {
   "cell_type": "code",
   "execution_count": 51,
   "id": "84ad9c9b",
   "metadata": {},
   "outputs": [
    {
     "data": {
      "text/plain": [
       "[2, 3, 5]"
      ]
     },
     "execution_count": 51,
     "metadata": {},
     "output_type": "execute_result"
    }
   ],
   "source": [
    "A = [2,3,4,5]\n",
    "A\n",
    "del(A[2])\n",
    "A\n",
    "#A.split(\",\")"
   ]
  }
 ],
 "metadata": {
  "kernelspec": {
   "display_name": "Python 3",
   "language": "python",
   "name": "python3"
  },
  "language_info": {
   "codemirror_mode": {
    "name": "ipython",
    "version": 3
   },
   "file_extension": ".py",
   "mimetype": "text/x-python",
   "name": "python",
   "nbconvert_exporter": "python",
   "pygments_lexer": "ipython3",
   "version": "3.8.8"
  }
 },
 "nbformat": 4,
 "nbformat_minor": 5
}
