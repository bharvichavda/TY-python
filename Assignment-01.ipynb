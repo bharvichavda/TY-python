{
 "cells": [
  {
   "cell_type": "markdown",
   "metadata": {},
   "source": [
    "# Assignment 01\n",
    "       \n",
    "## Name - Bharvi chavda"
   ]
  },
  {
   "cell_type": "markdown",
   "metadata": {},
   "source": [
    "## Lists \n",
    "#### A list is a collection which is ordered and changeable. In Python lists are written in squared brackets"
   ]
  },
  {
   "cell_type": "code",
   "execution_count": 7,
   "metadata": {},
   "outputs": [],
   "source": [
    "# Create 2 listes\n",
    "# A is list of Name and basic details\n",
    "A = ['Bharvi','20','Kharadi']\n",
    "# List of college details\n",
    "B = ['T.Y.BSc','Statistics','9162','Tilak Road']\n"
   ]
  },
  {
   "cell_type": "markdown",
   "metadata": {},
   "source": [
    "### Performing various methods"
   ]
  },
  {
   "cell_type": "code",
   "execution_count": 8,
   "metadata": {},
   "outputs": [
    {
     "name": "stdout",
     "output_type": "stream",
     "text": [
      "['Bharvi', '20', 'Kharadi']\n",
      "['Bharvi', '20', 'Kharadi', 'Female']\n"
     ]
    }
   ],
   "source": [
    "# 1)  append() - Adds an element at th end of the list\n",
    "print(A)\n",
    "A.append(\"Female\")\n",
    "print(A)"
   ]
  },
  {
   "cell_type": "code",
   "execution_count": 9,
   "metadata": {},
   "outputs": [
    {
     "name": "stdout",
     "output_type": "stream",
     "text": [
      "['Bharvi', '20', 'Kharadi', 'Female']\n"
     ]
    }
   ],
   "source": [
    "# 2) copy() : Copies all the elements from the list\n",
    "A1 = A.copy()\n",
    "print(A)"
   ]
  },
  {
   "cell_type": "code",
   "execution_count": 10,
   "metadata": {},
   "outputs": [
    {
     "name": "stdout",
     "output_type": "stream",
     "text": [
      "[]\n"
     ]
    }
   ],
   "source": [
    "# 3) clear() : Removes all the elements from the list\n",
    "A1.clear()\n",
    "print(A1)"
   ]
  },
  {
   "cell_type": "code",
   "execution_count": 12,
   "metadata": {},
   "outputs": [
    {
     "name": "stdout",
     "output_type": "stream",
     "text": [
      "['Bharvi', '20', 'Kharadi', 'Female', '20']\n",
      "2\n"
     ]
    }
   ],
   "source": [
    "# 4) count() : Returns the number of elements with the specified value\n",
    "A.append('20')\n",
    "print(A)\n",
    "x = A.count('20')\n",
    "print(x)"
   ]
  },
  {
   "cell_type": "code",
   "execution_count": 13,
   "metadata": {},
   "outputs": [
    {
     "name": "stdout",
     "output_type": "stream",
     "text": [
      "[]\n"
     ]
    },
    {
     "ename": "NameError",
     "evalue": "name 'A1' is not defined",
     "output_type": "error",
     "traceback": [
      "\u001b[1;31m---------------------------------------------------------------------------\u001b[0m",
      "\u001b[1;31mNameError\u001b[0m                                 Traceback (most recent call last)",
      "\u001b[1;32m<ipython-input-13-b582ea2ff16a>\u001b[0m in \u001b[0;36m<module>\u001b[1;34m\u001b[0m\n\u001b[0;32m      2\u001b[0m \u001b[0mprint\u001b[0m\u001b[1;33m(\u001b[0m\u001b[0mA1\u001b[0m\u001b[1;33m)\u001b[0m\u001b[1;33m\u001b[0m\u001b[1;33m\u001b[0m\u001b[0m\n\u001b[0;32m      3\u001b[0m \u001b[1;32mdel\u001b[0m \u001b[0mA1\u001b[0m\u001b[1;33m\u001b[0m\u001b[1;33m\u001b[0m\u001b[0m\n\u001b[1;32m----> 4\u001b[1;33m \u001b[0mprint\u001b[0m\u001b[1;33m(\u001b[0m\u001b[0mA1\u001b[0m\u001b[1;33m)\u001b[0m\u001b[1;33m\u001b[0m\u001b[1;33m\u001b[0m\u001b[0m\n\u001b[0m",
      "\u001b[1;31mNameError\u001b[0m: name 'A1' is not defined"
     ]
    }
   ],
   "source": [
    "# 5) del : Delete list\n",
    "print(A1)\n",
    "del A1\n",
    "print(A1)"
   ]
  },
  {
   "cell_type": "code",
   "execution_count": 14,
   "metadata": {},
   "outputs": [
    {
     "name": "stdout",
     "output_type": "stream",
     "text": [
      "['Bharvi', '20', 'Kharadi', 'Female', '20', 'T.Y.BSc', 'Statistics', '9162', 'Tilak Road']\n"
     ]
    }
   ],
   "source": [
    "# 6) extend() : Add the elements of the list (or any iterable), to the end of the current list\n",
    "A.extend(B)\n",
    "print(A)"
   ]
  },
  {
   "cell_type": "code",
   "execution_count": 15,
   "metadata": {},
   "outputs": [
    {
     "name": "stdout",
     "output_type": "stream",
     "text": [
      "['Bharvi', '20', '15 Km', 'Kharadi', 'Female', '20', 'T.Y.BSc', 'Statistics', '9162', 'Tilak Road']\n"
     ]
    }
   ],
   "source": [
    "# 7) insert() : Adds an elemnt at the specified position\n",
    "A.insert(2,'15 Km')\n",
    "print(A)"
   ]
  },
  {
   "cell_type": "code",
   "execution_count": 16,
   "metadata": {},
   "outputs": [
    {
     "name": "stdout",
     "output_type": "stream",
     "text": [
      "10\n"
     ]
    }
   ],
   "source": [
    "# 8) len() : Length of list\n",
    "print(len(A))"
   ]
  },
  {
   "cell_type": "code",
   "execution_count": 17,
   "metadata": {},
   "outputs": [
    {
     "name": "stdout",
     "output_type": "stream",
     "text": [
      "['A', 'B', 'C']\n"
     ]
    }
   ],
   "source": [
    "# 9) list() : Create list from inputs\n",
    "C = list(('A','B','C'))\n",
    "print(C)"
   ]
  },
  {
   "cell_type": "code",
   "execution_count": 18,
   "metadata": {},
   "outputs": [
    {
     "name": "stdout",
     "output_type": "stream",
     "text": [
      "['Bharvi', '20', 'Kharadi', 'Female', '20', 'T.Y.BSc', 'Statistics', '9162', 'Tilak Road']\n"
     ]
    }
   ],
   "source": [
    "# 10) pop() : Removes the element at the specified position'\n",
    "A.pop(2)\n",
    "print(A)"
   ]
  },
  {
   "cell_type": "code",
   "execution_count": 19,
   "metadata": {},
   "outputs": [
    {
     "name": "stdout",
     "output_type": "stream",
     "text": [
      "['Bharvi', 'Kharadi', 'Female', '20', 'T.Y.BSc', 'Statistics', '9162', 'Tilak Road']\n"
     ]
    }
   ],
   "source": [
    "# 11) remove() : Removes the item with the specified value\n",
    "A.remove('20')\n",
    "print(A)\n",
    "# Removes the 1st same element it matches"
   ]
  },
  {
   "cell_type": "code",
   "execution_count": 20,
   "metadata": {},
   "outputs": [
    {
     "name": "stdout",
     "output_type": "stream",
     "text": [
      "['Tilak Road', '9162', 'Statistics', 'T.Y.BSc', '20', 'Female', 'Kharadi', 'Bharvi']\n"
     ]
    }
   ],
   "source": [
    "# 12) reverse() : Reverses the order of the list\n",
    "A.reverse()\n",
    "print(A)"
   ]
  },
  {
   "cell_type": "code",
   "execution_count": 21,
   "metadata": {},
   "outputs": [
    {
     "name": "stdout",
     "output_type": "stream",
     "text": [
      "['20', '9162', 'Bharvi', 'Female', 'Kharadi', 'Statistics', 'T.Y.BSc', 'Tilak Road']\n"
     ]
    }
   ],
   "source": [
    "# 13) sort() : Sorts the list\n",
    "A.sort()\n",
    "print(A)"
   ]
  },
  {
   "cell_type": "markdown",
   "metadata": {},
   "source": [
    "## Tuples \n",
    "#### A Tuple is a collection which is ordered and unchangeable\n",
    "#### In Python Tuples are wrtten with round brackets.\n",
    "#### The key difference between the tuples and lists is that while the tuplesare immutable objects the lists are mutable\n",
    "#### this means that tuples cannot be changed while the lists can be modified .\n",
    "#### Tuples are more memory efficient than the lists"
   ]
  },
  {
   "cell_type": "code",
   "execution_count": 49,
   "metadata": {},
   "outputs": [],
   "source": [
    "# Create 2 tuples\n",
    "# A is tuple of Name and basic details\n",
    "A = ('Bharvi','20','Kharadi')\n",
    "# B is tuple of college details\n",
    "B = ('T.Y.BSc','Statistics','9162','Tilak Road')"
   ]
  },
  {
   "cell_type": "markdown",
   "metadata": {},
   "source": [
    "### Performing Various methods"
   ]
  },
  {
   "cell_type": "code",
   "execution_count": 40,
   "metadata": {},
   "outputs": [
    {
     "name": "stdout",
     "output_type": "stream",
     "text": [
      "(1, 2, 3, 4, 5, 6, 7)\n"
     ]
    }
   ],
   "source": [
    "# 1) tuple() : Creates tuple with elements specified.\n",
    "t = tuple((1,2,3,4,5,6,7))\n",
    "print(t)"
   ]
  },
  {
   "cell_type": "code",
   "execution_count": 41,
   "metadata": {},
   "outputs": [
    {
     "data": {
      "text/plain": [
       "3"
      ]
     },
     "execution_count": 41,
     "metadata": {},
     "output_type": "execute_result"
    }
   ],
   "source": [
    "# 2) len() : gives length of tuple, no. of elements\n",
    "len(A)"
   ]
  },
  {
   "cell_type": "code",
   "execution_count": 50,
   "metadata": {},
   "outputs": [
    {
     "name": "stdout",
     "output_type": "stream",
     "text": [
      "('Bharvi', '20', 'Kharadi', 'T.Y.BSc', 'Statistics', '9162', 'Tilak Road')\n"
     ]
    }
   ],
   "source": [
    "# 3) t1 + t2 : Adds two tuples\n",
    "C = A + B\n",
    "print(C)"
   ]
  },
  {
   "cell_type": "code",
   "execution_count": 43,
   "metadata": {},
   "outputs": [
    {
     "ename": "NameError",
     "evalue": "name 't' is not defined",
     "output_type": "error",
     "traceback": [
      "\u001b[1;31m---------------------------------------------------------------------------\u001b[0m",
      "\u001b[1;31mNameError\u001b[0m                                 Traceback (most recent call last)",
      "\u001b[1;32m<ipython-input-43-bce9062e5e1c>\u001b[0m in \u001b[0;36m<module>\u001b[1;34m\u001b[0m\n\u001b[0;32m      1\u001b[0m \u001b[1;31m# 4) del : Deletes tuple\u001b[0m\u001b[1;33m\u001b[0m\u001b[1;33m\u001b[0m\u001b[1;33m\u001b[0m\u001b[0m\n\u001b[0;32m      2\u001b[0m \u001b[1;32mdel\u001b[0m \u001b[0mt\u001b[0m\u001b[1;33m\u001b[0m\u001b[1;33m\u001b[0m\u001b[0m\n\u001b[1;32m----> 3\u001b[1;33m \u001b[0mprint\u001b[0m\u001b[1;33m(\u001b[0m\u001b[0mt\u001b[0m\u001b[1;33m)\u001b[0m\u001b[1;33m\u001b[0m\u001b[1;33m\u001b[0m\u001b[0m\n\u001b[0m",
      "\u001b[1;31mNameError\u001b[0m: name 't' is not defined"
     ]
    }
   ],
   "source": [
    "# 4) del : Deletes tuple\n",
    "del t\n",
    "print(t)"
   ]
  },
  {
   "cell_type": "code",
   "execution_count": 52,
   "metadata": {},
   "outputs": [
    {
     "name": "stdout",
     "output_type": "stream",
     "text": [
      "('Bharvi', '20', 'Kharadi', 'T.Y.BSc', 'Statistics', '9162', 'Tilak Road', '20', '20')\n"
     ]
    },
    {
     "data": {
      "text/plain": [
       "3"
      ]
     },
     "execution_count": 52,
     "metadata": {},
     "output_type": "execute_result"
    }
   ],
   "source": [
    "# 5) count() : counts the number of times a specified value occures in a tuple\n",
    "C1 = ('20',)\n",
    "C = C + C1\n",
    "print(C)\n",
    "C.count('20')"
   ]
  },
  {
   "cell_type": "code",
   "execution_count": 53,
   "metadata": {},
   "outputs": [
    {
     "data": {
      "text/plain": [
       "1"
      ]
     },
     "execution_count": 53,
     "metadata": {},
     "output_type": "execute_result"
    }
   ],
   "source": [
    "# 6) index() : Searches the tuple for a specified value and returns the position where it was found\n",
    "A.index('20')"
   ]
  }
 ],
 "metadata": {
  "kernelspec": {
   "display_name": "Python 3",
   "language": "python",
   "name": "python3"
  },
  "language_info": {
   "codemirror_mode": {
    "name": "ipython",
    "version": 3
   },
   "file_extension": ".py",
   "mimetype": "text/x-python",
   "name": "python",
   "nbconvert_exporter": "python",
   "pygments_lexer": "ipython3",
   "version": "3.8.5"
  }
 },
 "nbformat": 4,
 "nbformat_minor": 5
}
