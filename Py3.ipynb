{
 "cells": [
  {
   "cell_type": "markdown",
   "id": "e6880240",
   "metadata": {},
   "source": [
    "## Boolean\n",
    "Booleans represent one of the two values : True or False"
   ]
  },
  {
   "cell_type": "code",
   "execution_count": 2,
   "id": "dc76650e",
   "metadata": {},
   "outputs": [
    {
     "name": "stdout",
     "output_type": "stream",
     "text": [
      "Demo for learning git\n"
     ]
    }
   ],
   "source": [
    "print(\"Demo for learning git\")"
   ]
  },
  {
   "cell_type": "code",
   "execution_count": 6,
   "id": "77fca499",
   "metadata": {},
   "outputs": [
    {
     "name": "stdout",
     "output_type": "stream",
     "text": [
      "True\n",
      "False\n",
      "False\n"
     ]
    }
   ],
   "source": [
    "print(10 > 9)\n",
    "print(10 == 9)\n",
    "print(10 < 9)"
   ]
  },
  {
   "cell_type": "markdown",
   "id": "3db2e649",
   "metadata": {},
   "source": [
    "The bool() function allows you to evaluate any value and give you True or False in return"
   ]
  },
  {
   "cell_type": "code",
   "execution_count": 8,
   "id": "60b8f348",
   "metadata": {},
   "outputs": [
    {
     "name": "stdout",
     "output_type": "stream",
     "text": [
      "True\n",
      "False\n",
      "True\n",
      "True\n"
     ]
    }
   ],
   "source": [
    "print(bool(\"Hello\"))\n",
    "print(bool())\n",
    "\n",
    "x = \"Hello\"\n",
    "y = 15\n",
    "print(bool(x))\n",
    "print(bool(y))"
   ]
  },
  {
   "cell_type": "code",
   "execution_count": 10,
   "id": "d7bb12e4",
   "metadata": {},
   "outputs": [
    {
     "name": "stdout",
     "output_type": "stream",
     "text": [
      "False\n",
      "False\n",
      "False\n",
      "False\n",
      "False\n",
      "False\n",
      "False\n"
     ]
    }
   ],
   "source": [
    "# Some values are False\n",
    "print(bool(False))\n",
    "print(bool(None))\n",
    "print(bool(0))\n",
    "print(bool(\"\"))\n",
    "print(bool(()))\n",
    "print(bool([]))\n",
    "print(bool({}))"
   ]
  },
  {
   "cell_type": "markdown",
   "id": "99630921",
   "metadata": {},
   "source": [
    "## Comparison Operators\n",
    "    \n",
    "Equal to ==    \n",
    "Not equal to !=     \n",
    "Greater than >     \n",
    "Less than <     \n",
    "Greater than Equal to >=    \n",
    "Less than Equal to <=   \n",
    "    \n",
    "Always returns boolean"
   ]
  },
  {
   "cell_type": "code",
   "execution_count": 12,
   "id": "d03781af",
   "metadata": {},
   "outputs": [
    {
     "name": "stdout",
     "output_type": "stream",
     "text": [
      "False\n",
      "True\n",
      "True\n",
      "False\n",
      "True\n",
      "False\n"
     ]
    }
   ],
   "source": [
    "x,y = 15, 9\n",
    "print(x==y)\n",
    "print(x!=y)\n",
    "print(x>y)\n",
    "print(x<y)\n",
    "print(x>=y)\n",
    "print(x<=y)"
   ]
  },
  {
   "cell_type": "code",
   "execution_count": 14,
   "id": "66c43af1",
   "metadata": {},
   "outputs": [
    {
     "name": "stdout",
     "output_type": "stream",
     "text": [
      "False\n",
      "True\n",
      "True\n",
      "True\n"
     ]
    }
   ],
   "source": [
    "x=8\n",
    "print(x < 5 and  x < 10)\n",
    "print(x < 5 or  x < 10)\n",
    "print(not(x>10))\n",
    "print(not(x < 5 and x < 10))"
   ]
  },
  {
   "cell_type": "code",
   "execution_count": 16,
   "id": "632a37f0",
   "metadata": {},
   "outputs": [
    {
     "name": "stdout",
     "output_type": "stream",
     "text": [
      "False\n",
      "True\n"
     ]
    }
   ],
   "source": [
    "x, y = 2,10\n",
    "print(x is y)\n",
    "print(x is not y)"
   ]
  },
  {
   "cell_type": "code",
   "execution_count": 18,
   "id": "95e5fe6a",
   "metadata": {},
   "outputs": [
    {
     "name": "stdout",
     "output_type": "stream",
     "text": [
      "True\n",
      "False\n"
     ]
    }
   ],
   "source": [
    "x, y = 'Hi', \"Hi\"\n",
    "print(x is y)\n",
    "print(x is not y)"
   ]
  },
  {
   "cell_type": "markdown",
   "id": "0771fff6",
   "metadata": {},
   "source": [
    "## Membership Operators\n",
    "*in      \n",
    "*not in"
   ]
  },
  {
   "cell_type": "code",
   "execution_count": 20,
   "id": "08b54204",
   "metadata": {},
   "outputs": [
    {
     "name": "stdout",
     "output_type": "stream",
     "text": [
      "True\n",
      "True\n",
      "False\n",
      "True\n"
     ]
    }
   ],
   "source": [
    "x=\"Have a Hgood day!\" \n",
    "print(\"Have\" in x)\n",
    "print(\"H\" in x)\n",
    "print(\"av a\" in x)\n",
    "print('good day' in x)"
   ]
  },
  {
   "cell_type": "code",
   "execution_count": 22,
   "id": "6dc8e6f7",
   "metadata": {},
   "outputs": [
    {
     "name": "stdout",
     "output_type": "stream",
     "text": [
      "True\n"
     ]
    }
   ],
   "source": [
    "a = \"is not in Pune\"\n",
    "print('Pune' in a)"
   ]
  },
  {
   "cell_type": "markdown",
   "id": "b5413296",
   "metadata": {},
   "source": [
    "## Indexing\n",
    "Positive Indexing starts from 0.     \n",
    " Goes from Left to right       \n",
    "Negative Indexoing starts from -1.   \n",
    " Goes from right to left"
   ]
  },
  {
   "cell_type": "code",
   "execution_count": 24,
   "id": "fccbf1cd",
   "metadata": {},
   "outputs": [
    {
     "name": "stdout",
     "output_type": "stream",
     "text": [
      "Like\n",
      "\n",
      "Like\n"
     ]
    }
   ],
   "source": [
    "a=\"I Like Python\"\n",
    "print(a[-11:-7])\n",
    "print(a[-7:-11])\n",
    "print(a[2:6])"
   ]
  }
 ],
 "metadata": {
  "kernelspec": {
   "display_name": "Python 3",
   "language": "python",
   "name": "python3"
  },
  "language_info": {
   "codemirror_mode": {
    "name": "ipython",
    "version": 3
   },
   "file_extension": ".py",
   "mimetype": "text/x-python",
   "name": "python",
   "nbconvert_exporter": "python",
   "pygments_lexer": "ipython3",
   "version": "3.8.8"
  }
 },
 "nbformat": 4,
 "nbformat_minor": 5
}
